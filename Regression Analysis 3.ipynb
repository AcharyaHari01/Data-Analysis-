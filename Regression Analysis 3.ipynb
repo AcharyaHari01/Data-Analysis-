{
 "cells": [
  {
   "cell_type": "markdown",
   "id": "0cadb8b4-1f91-446e-b3e8-63da09373b68",
   "metadata": {},
   "source": [
    "<h1>#Assignment 7\n",
    "</h1>"
   ]
  },
  {
   "cell_type": "code",
   "execution_count": 2,
   "id": "19edf00c-6c78-4a84-8255-9aaf57fe0422",
   "metadata": {},
   "outputs": [],
   "source": [
    "import numpy as np\n",
    "import matplotlib.pyplot as plt\n",
    "import pandas as pd\n",
    "import statsmodels.api as sm\n",
    "import seaborn as sns\n",
    "from sklearn.model_selection import train_test_split\n",
    "from sklearn.metrics import balanced_accuracy_score"
   ]
  },
  {
   "cell_type": "markdown",
   "id": "f85109c1-158f-4ef1-a69d-ea1efda04161",
   "metadata": {},
   "source": [
    "<h1>#Loading csv file</h1>"
   ]
  },
  {
   "cell_type": "code",
   "execution_count": 4,
   "id": "66904b0a-9480-4df2-b69c-0f5cf3c33677",
   "metadata": {},
   "outputs": [],
   "source": [
    "df=pd.read_csv(\"logistic regression dataset-Social_Network_Ads.csv\")"
   ]
  },
  {
   "cell_type": "code",
   "execution_count": 5,
   "id": "4d013a43-d169-4961-8ad8-f75d9b61fe00",
   "metadata": {},
   "outputs": [
    {
     "data": {
      "text/html": [
       "<div>\n",
       "<style scoped>\n",
       "    .dataframe tbody tr th:only-of-type {\n",
       "        vertical-align: middle;\n",
       "    }\n",
       "\n",
       "    .dataframe tbody tr th {\n",
       "        vertical-align: top;\n",
       "    }\n",
       "\n",
       "    .dataframe thead th {\n",
       "        text-align: right;\n",
       "    }\n",
       "</style>\n",
       "<table border=\"1\" class=\"dataframe\">\n",
       "  <thead>\n",
       "    <tr style=\"text-align: right;\">\n",
       "      <th></th>\n",
       "      <th>User ID</th>\n",
       "      <th>Gender</th>\n",
       "      <th>Age</th>\n",
       "      <th>EstimatedSalary</th>\n",
       "      <th>Purchased</th>\n",
       "    </tr>\n",
       "  </thead>\n",
       "  <tbody>\n",
       "    <tr>\n",
       "      <th>0</th>\n",
       "      <td>15624510</td>\n",
       "      <td>Male</td>\n",
       "      <td>19</td>\n",
       "      <td>19000</td>\n",
       "      <td>0</td>\n",
       "    </tr>\n",
       "    <tr>\n",
       "      <th>1</th>\n",
       "      <td>15810944</td>\n",
       "      <td>Male</td>\n",
       "      <td>35</td>\n",
       "      <td>20000</td>\n",
       "      <td>0</td>\n",
       "    </tr>\n",
       "    <tr>\n",
       "      <th>2</th>\n",
       "      <td>15668575</td>\n",
       "      <td>Female</td>\n",
       "      <td>26</td>\n",
       "      <td>43000</td>\n",
       "      <td>0</td>\n",
       "    </tr>\n",
       "    <tr>\n",
       "      <th>3</th>\n",
       "      <td>15603246</td>\n",
       "      <td>Female</td>\n",
       "      <td>27</td>\n",
       "      <td>57000</td>\n",
       "      <td>0</td>\n",
       "    </tr>\n",
       "    <tr>\n",
       "      <th>4</th>\n",
       "      <td>15804002</td>\n",
       "      <td>Male</td>\n",
       "      <td>19</td>\n",
       "      <td>76000</td>\n",
       "      <td>0</td>\n",
       "    </tr>\n",
       "    <tr>\n",
       "      <th>...</th>\n",
       "      <td>...</td>\n",
       "      <td>...</td>\n",
       "      <td>...</td>\n",
       "      <td>...</td>\n",
       "      <td>...</td>\n",
       "    </tr>\n",
       "    <tr>\n",
       "      <th>395</th>\n",
       "      <td>15691863</td>\n",
       "      <td>Female</td>\n",
       "      <td>46</td>\n",
       "      <td>41000</td>\n",
       "      <td>1</td>\n",
       "    </tr>\n",
       "    <tr>\n",
       "      <th>396</th>\n",
       "      <td>15706071</td>\n",
       "      <td>Male</td>\n",
       "      <td>51</td>\n",
       "      <td>23000</td>\n",
       "      <td>1</td>\n",
       "    </tr>\n",
       "    <tr>\n",
       "      <th>397</th>\n",
       "      <td>15654296</td>\n",
       "      <td>Female</td>\n",
       "      <td>50</td>\n",
       "      <td>20000</td>\n",
       "      <td>1</td>\n",
       "    </tr>\n",
       "    <tr>\n",
       "      <th>398</th>\n",
       "      <td>15755018</td>\n",
       "      <td>Male</td>\n",
       "      <td>36</td>\n",
       "      <td>33000</td>\n",
       "      <td>0</td>\n",
       "    </tr>\n",
       "    <tr>\n",
       "      <th>399</th>\n",
       "      <td>15594041</td>\n",
       "      <td>Female</td>\n",
       "      <td>49</td>\n",
       "      <td>36000</td>\n",
       "      <td>1</td>\n",
       "    </tr>\n",
       "  </tbody>\n",
       "</table>\n",
       "<p>400 rows × 5 columns</p>\n",
       "</div>"
      ],
      "text/plain": [
       "      User ID  Gender  Age  EstimatedSalary  Purchased\n",
       "0    15624510    Male   19            19000          0\n",
       "1    15810944    Male   35            20000          0\n",
       "2    15668575  Female   26            43000          0\n",
       "3    15603246  Female   27            57000          0\n",
       "4    15804002    Male   19            76000          0\n",
       "..        ...     ...  ...              ...        ...\n",
       "395  15691863  Female   46            41000          1\n",
       "396  15706071    Male   51            23000          1\n",
       "397  15654296  Female   50            20000          1\n",
       "398  15755018    Male   36            33000          0\n",
       "399  15594041  Female   49            36000          1\n",
       "\n",
       "[400 rows x 5 columns]"
      ]
     },
     "execution_count": 5,
     "metadata": {},
     "output_type": "execute_result"
    }
   ],
   "source": [
    "df"
   ]
  },
  {
   "cell_type": "code",
   "execution_count": 6,
   "id": "5c612811-fe51-4aef-aa87-8b06536eaedf",
   "metadata": {},
   "outputs": [
    {
     "data": {
      "text/html": [
       "<div>\n",
       "<style scoped>\n",
       "    .dataframe tbody tr th:only-of-type {\n",
       "        vertical-align: middle;\n",
       "    }\n",
       "\n",
       "    .dataframe tbody tr th {\n",
       "        vertical-align: top;\n",
       "    }\n",
       "\n",
       "    .dataframe thead th {\n",
       "        text-align: right;\n",
       "    }\n",
       "</style>\n",
       "<table border=\"1\" class=\"dataframe\">\n",
       "  <thead>\n",
       "    <tr style=\"text-align: right;\">\n",
       "      <th></th>\n",
       "      <th>EstimatedSalary</th>\n",
       "    </tr>\n",
       "  </thead>\n",
       "  <tbody>\n",
       "    <tr>\n",
       "      <th>0</th>\n",
       "      <td>19000</td>\n",
       "    </tr>\n",
       "    <tr>\n",
       "      <th>1</th>\n",
       "      <td>20000</td>\n",
       "    </tr>\n",
       "    <tr>\n",
       "      <th>2</th>\n",
       "      <td>43000</td>\n",
       "    </tr>\n",
       "    <tr>\n",
       "      <th>3</th>\n",
       "      <td>57000</td>\n",
       "    </tr>\n",
       "    <tr>\n",
       "      <th>4</th>\n",
       "      <td>76000</td>\n",
       "    </tr>\n",
       "    <tr>\n",
       "      <th>...</th>\n",
       "      <td>...</td>\n",
       "    </tr>\n",
       "    <tr>\n",
       "      <th>395</th>\n",
       "      <td>41000</td>\n",
       "    </tr>\n",
       "    <tr>\n",
       "      <th>396</th>\n",
       "      <td>23000</td>\n",
       "    </tr>\n",
       "    <tr>\n",
       "      <th>397</th>\n",
       "      <td>20000</td>\n",
       "    </tr>\n",
       "    <tr>\n",
       "      <th>398</th>\n",
       "      <td>33000</td>\n",
       "    </tr>\n",
       "    <tr>\n",
       "      <th>399</th>\n",
       "      <td>36000</td>\n",
       "    </tr>\n",
       "  </tbody>\n",
       "</table>\n",
       "<p>400 rows × 1 columns</p>\n",
       "</div>"
      ],
      "text/plain": [
       "     EstimatedSalary\n",
       "0              19000\n",
       "1              20000\n",
       "2              43000\n",
       "3              57000\n",
       "4              76000\n",
       "..               ...\n",
       "395            41000\n",
       "396            23000\n",
       "397            20000\n",
       "398            33000\n",
       "399            36000\n",
       "\n",
       "[400 rows x 1 columns]"
      ]
     },
     "execution_count": 6,
     "metadata": {},
     "output_type": "execute_result"
    }
   ],
   "source": [
    "X1 = df[['EstimatedSalary']]\n",
    "y = df['Purchased']\n",
    "X1\n"
   ]
  },
  {
   "cell_type": "code",
   "execution_count": 7,
   "id": "335f2331-002f-48a6-8a24-20a28fb98fc9",
   "metadata": {},
   "outputs": [
    {
     "data": {
      "text/plain": [
       "0      0\n",
       "1      0\n",
       "2      0\n",
       "3      0\n",
       "4      0\n",
       "      ..\n",
       "395    1\n",
       "396    1\n",
       "397    1\n",
       "398    0\n",
       "399    1\n",
       "Name: Purchased, Length: 400, dtype: int64"
      ]
     },
     "execution_count": 7,
     "metadata": {},
     "output_type": "execute_result"
    }
   ],
   "source": [
    "y"
   ]
  },
  {
   "cell_type": "code",
   "execution_count": 8,
   "id": "e0a8b497-dfa8-4ea6-9842-9dfd40a7e0e9",
   "metadata": {},
   "outputs": [],
   "source": [
    "X1_train, X1_test, y_train, y_test = train_test_split(X1, y, test_size=0.2, random_state=42)"
   ]
  },
  {
   "cell_type": "markdown",
   "id": "c5c77055-0648-47af-8d25-1594c5877402",
   "metadata": {},
   "source": [
    "<h1>#Adding Constant for the intercept</h1>"
   ]
  },
  {
   "cell_type": "code",
   "execution_count": 10,
   "id": "7488bdf2-57c2-4b43-bc29-60a3871443d4",
   "metadata": {},
   "outputs": [],
   "source": [
    "X1_train = sm.add_constant(X1_train)\n",
    "X1_test = sm.add_constant(X1_test)"
   ]
  },
  {
   "cell_type": "markdown",
   "id": "39b66f04-bfce-48f3-b5cf-1cb1d4652f23",
   "metadata": {},
   "source": [
    "<h1>#Taining Logistic Regression model</h1>"
   ]
  },
  {
   "cell_type": "code",
   "execution_count": 12,
   "id": "2eb69af9-0a62-43e6-8a81-55156978db91",
   "metadata": {},
   "outputs": [
    {
     "name": "stdout",
     "output_type": "stream",
     "text": [
      "Optimization terminated successfully.\n",
      "         Current function value: 0.578480\n",
      "         Iterations 5\n"
     ]
    }
   ],
   "source": [
    "model1 = sm.Logit(y_train, X1_train).fit()"
   ]
  },
  {
   "cell_type": "markdown",
   "id": "3579d47a-fa4a-4ea7-a497-1e65cffe4df8",
   "metadata": {},
   "source": [
    "<h1>#Displaying the summary</h1>"
   ]
  },
  {
   "cell_type": "code",
   "execution_count": 14,
   "id": "05c33aee-e372-42fc-aadb-b9f11eefc08b",
   "metadata": {},
   "outputs": [
    {
     "name": "stdout",
     "output_type": "stream",
     "text": [
      "                           Logit Regression Results                           \n",
      "==============================================================================\n",
      "Dep. Variable:              Purchased   No. Observations:                  320\n",
      "Model:                          Logit   Df Residuals:                      318\n",
      "Method:                           MLE   Df Model:                            1\n",
      "Date:                Thu, 02 Jan 2025   Pseudo R-squ.:                  0.1142\n",
      "Time:                        15:03:26   Log-Likelihood:                -185.11\n",
      "converged:                       True   LL-Null:                       -208.98\n",
      "Covariance Type:            nonrobust   LLR p-value:                 4.891e-12\n",
      "===================================================================================\n",
      "                      coef    std err          z      P>|z|      [0.025      0.975]\n",
      "-----------------------------------------------------------------------------------\n",
      "const              -2.4209      0.324     -7.463      0.000      -3.057      -1.785\n",
      "EstimatedSalary  2.511e-05   3.96e-06      6.333      0.000    1.73e-05    3.29e-05\n",
      "===================================================================================\n"
     ]
    }
   ],
   "source": [
    "print(model1.summary())"
   ]
  },
  {
   "cell_type": "markdown",
   "id": "c96acf43-958a-4054-a212-426a3d2d3d3e",
   "metadata": {},
   "source": [
    "<h1>#prediction</h1>"
   ]
  },
  {
   "cell_type": "code",
   "execution_count": 16,
   "id": "53bfa7ae-e5d2-4ea1-ad12-2071e7b0cd85",
   "metadata": {},
   "outputs": [],
   "source": [
    "y_pred_p1 = model1.predict(X1_test)\n",
    "y_pred1 = (y_pred_p1 >= 0.5).astype(int)\n"
   ]
  },
  {
   "cell_type": "markdown",
   "id": "035ea912-fc53-44c1-868c-08736c299357",
   "metadata": {},
   "source": [
    "<h1>#Balancy Accuracy </h1>"
   ]
  },
  {
   "cell_type": "code",
   "execution_count": 27,
   "id": "76281638-036b-4c88-8bb3-952c0408b078",
   "metadata": {},
   "outputs": [
    {
     "name": "stdout",
     "output_type": "stream",
     "text": [
      "Balanced Accuracy : 0.6497252747252747\n"
     ]
    }
   ],
   "source": [
    "b_accuracy1 = balanced_accuracy_score(y_test, y_pred1)\n",
    "print(f\"Balanced Accuracy : {b_accuracy1}\")"
   ]
  },
  {
   "cell_type": "markdown",
   "id": "0b1bb2b6-e68f-436a-9c71-8f0134361e3b",
   "metadata": {},
   "source": [
    "<h1># Task 2</h1>"
   ]
  },
  {
   "cell_type": "code",
   "execution_count": 31,
   "id": "4031ec65-e27e-412b-b273-535ffee978a7",
   "metadata": {},
   "outputs": [],
   "source": [
    "X2 = df[['Age', 'EstimatedSalary']]"
   ]
  },
  {
   "cell_type": "code",
   "execution_count": 33,
   "id": "d25196b6-242c-4fa8-9bbc-da4d4b78249b",
   "metadata": {},
   "outputs": [],
   "source": [
    "X2_train, X2_test, y_train, y_test = train_test_split(X2, y, test_size=0.2, random_state=42)"
   ]
  },
  {
   "cell_type": "markdown",
   "id": "cd604b28-2dd8-4331-8ab0-d81076c6d3d0",
   "metadata": {},
   "source": [
    "<h1>#Adding Constant </h1>"
   ]
  },
  {
   "cell_type": "code",
   "execution_count": 36,
   "id": "cb8e1856-9eb9-4fd6-ba61-51eb4867a427",
   "metadata": {},
   "outputs": [],
   "source": [
    "X2_train = sm.add_constant(X2_train)\n",
    "X2_test = sm.add_constant(X2_test)"
   ]
  },
  {
   "cell_type": "markdown",
   "id": "a8147454-1ce3-4eb0-90b6-f4cdaa50915a",
   "metadata": {},
   "source": [
    "<h1>Training the model</h1>"
   ]
  },
  {
   "cell_type": "code",
   "execution_count": 39,
   "id": "2cc4373e-ff48-4155-9e5d-109c1c3aa658",
   "metadata": {},
   "outputs": [
    {
     "name": "stdout",
     "output_type": "stream",
     "text": [
      "Optimization terminated successfully.\n",
      "         Current function value: 0.372821\n",
      "         Iterations 7\n"
     ]
    }
   ],
   "source": [
    "model2 = sm.Logit(y_train, X2_train).fit()"
   ]
  },
  {
   "cell_type": "markdown",
   "id": "2cae0ac8-716e-4563-8963-1845ad11297d",
   "metadata": {},
   "source": [
    "<h1>#Displaying the summary</h1>"
   ]
  },
  {
   "cell_type": "code",
   "execution_count": 42,
   "id": "732d3888-d618-46f9-90fa-9469134fe10b",
   "metadata": {},
   "outputs": [
    {
     "name": "stdout",
     "output_type": "stream",
     "text": [
      "                           Logit Regression Results                           \n",
      "==============================================================================\n",
      "Dep. Variable:              Purchased   No. Observations:                  320\n",
      "Model:                          Logit   Df Residuals:                      317\n",
      "Method:                           MLE   Df Model:                            2\n",
      "Date:                Thu, 02 Jan 2025   Pseudo R-squ.:                  0.4291\n",
      "Time:                        15:03:29   Log-Likelihood:                -119.30\n",
      "converged:                       True   LL-Null:                       -208.98\n",
      "Covariance Type:            nonrobust   LLR p-value:                 1.133e-39\n",
      "===================================================================================\n",
      "                      coef    std err          z      P>|z|      [0.025      0.975]\n",
      "-----------------------------------------------------------------------------------\n",
      "const             -11.4104      1.314     -8.686      0.000     -13.985      -8.836\n",
      "Age                 0.2079      0.026      7.968      0.000       0.157       0.259\n",
      "EstimatedSalary  3.551e-05   5.74e-06      6.186      0.000    2.43e-05    4.68e-05\n",
      "===================================================================================\n"
     ]
    }
   ],
   "source": [
    "print(model2.summary())"
   ]
  },
  {
   "cell_type": "markdown",
   "id": "1c75b37c-b941-439f-a241-406539cec409",
   "metadata": {},
   "source": [
    "<h1>#Predicting </h1>"
   ]
  },
  {
   "cell_type": "code",
   "execution_count": 45,
   "id": "3b746578-f13d-4534-837b-94f9b2cc78d1",
   "metadata": {},
   "outputs": [],
   "source": [
    "y_pred_p2 = model2.predict(X2_test)\n",
    "y_pred2 = (y_pred_p2 >= 0.5).astype(int)"
   ]
  },
  {
   "cell_type": "markdown",
   "id": "51aff74c-f8da-428f-ad34-0da97e2cf4b9",
   "metadata": {},
   "source": [
    "<h1>#Balanced Accuracy</h1>"
   ]
  },
  {
   "cell_type": "code",
   "execution_count": 48,
   "id": "51feca7d-1a35-46a7-9d61-9c5d7a055340",
   "metadata": {},
   "outputs": [
    {
     "name": "stdout",
     "output_type": "stream",
     "text": [
      "Balanced Accuracy (Task 2 - Age and EstimatedSalary): 0.8557692307692308\n"
     ]
    }
   ],
   "source": [
    "b_accuracy2 = balanced_accuracy_score(y_test, y_pred2)\n",
    "print(f\"Balanced Accuracy (Task 2 - Age and EstimatedSalary): {b_accuracy2}\")"
   ]
  },
  {
   "cell_type": "markdown",
   "id": "9e1cf46c-8687-4a85-a72c-00e170254997",
   "metadata": {},
   "source": [
    "<h1>#Checking Which model perform better in terms of balance accuracy</h1>"
   ]
  },
  {
   "cell_type": "code",
   "execution_count": 51,
   "id": "dfed06a1-6a23-4131-9574-608af0b01e50",
   "metadata": {},
   "outputs": [
    {
     "name": "stdout",
     "output_type": "stream",
     "text": [
      "Task 2 model performs better in terms of balanced accuracy.\n"
     ]
    }
   ],
   "source": [
    "if b_accuracy2 > b_accuracy1:\n",
    "    print(\"Task 2 model performs better in terms of balanced accuracy.\")\n",
    "else:\n",
    "    print(\"Task 1 model performs better in terms of balanced accuracy.\")"
   ]
  }
 ],
 "metadata": {
  "kernelspec": {
   "display_name": "Python 3 (ipykernel)",
   "language": "python",
   "name": "python3"
  },
  "language_info": {
   "codemirror_mode": {
    "name": "ipython",
    "version": 3
   },
   "file_extension": ".py",
   "mimetype": "text/x-python",
   "name": "python",
   "nbconvert_exporter": "python",
   "pygments_lexer": "ipython3",
   "version": "3.12.7"
  }
 },
 "nbformat": 4,
 "nbformat_minor": 5
}
