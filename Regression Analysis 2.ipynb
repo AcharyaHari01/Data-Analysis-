{
 "cells": [
  {
   "cell_type": "markdown",
   "id": "6991737d-fef6-4dff-bdfa-1a4f256fcc2d",
   "metadata": {},
   "source": [
    "<h1>Assignment 5</h1>"
   ]
  },
  {
   "cell_type": "code",
   "execution_count": 22,
   "id": "ae7c5d08-1f47-4e4f-8584-7c238d014b11",
   "metadata": {},
   "outputs": [],
   "source": [
    "import pandas as pd\n",
    "import numpy as np\n",
    "import seaborn as sns\n",
    "import matplotlib.pyplot as plt\n",
    "import statsmodels.api as sm\n",
    "import statsmodels.formula.api as smf\n",
    "from scipy import stats"
   ]
  },
  {
   "cell_type": "code",
   "execution_count": 23,
   "id": "4963de2d-2617-4fb5-87cf-da480eb0e59f",
   "metadata": {},
   "outputs": [
    {
     "data": {
      "text/html": [
       "<div>\n",
       "<style scoped>\n",
       "    .dataframe tbody tr th:only-of-type {\n",
       "        vertical-align: middle;\n",
       "    }\n",
       "\n",
       "    .dataframe tbody tr th {\n",
       "        vertical-align: top;\n",
       "    }\n",
       "\n",
       "    .dataframe thead th {\n",
       "        text-align: right;\n",
       "    }\n",
       "</style>\n",
       "<table border=\"1\" class=\"dataframe\">\n",
       "  <thead>\n",
       "    <tr style=\"text-align: right;\">\n",
       "      <th></th>\n",
       "      <th>X1</th>\n",
       "      <th>X2</th>\n",
       "      <th>Y</th>\n",
       "    </tr>\n",
       "  </thead>\n",
       "  <tbody>\n",
       "    <tr>\n",
       "      <th>0</th>\n",
       "      <td>4.912069</td>\n",
       "      <td>2.034193</td>\n",
       "      <td>7.099346</td>\n",
       "    </tr>\n",
       "    <tr>\n",
       "      <th>1</th>\n",
       "      <td>4.970952</td>\n",
       "      <td>2.115992</td>\n",
       "      <td>7.146302</td>\n",
       "    </tr>\n",
       "    <tr>\n",
       "      <th>2</th>\n",
       "      <td>5.645921</td>\n",
       "      <td>2.024459</td>\n",
       "      <td>7.628298</td>\n",
       "    </tr>\n",
       "    <tr>\n",
       "      <th>3</th>\n",
       "      <td>5.180944</td>\n",
       "      <td>2.204340</td>\n",
       "      <td>7.343637</td>\n",
       "    </tr>\n",
       "    <tr>\n",
       "      <th>4</th>\n",
       "      <td>4.748189</td>\n",
       "      <td>1.985896</td>\n",
       "      <td>6.715205</td>\n",
       "    </tr>\n",
       "    <tr>\n",
       "      <th>...</th>\n",
       "      <td>...</td>\n",
       "      <td>...</td>\n",
       "      <td>...</td>\n",
       "    </tr>\n",
       "    <tr>\n",
       "      <th>295</th>\n",
       "      <td>5.442993</td>\n",
       "      <td>1.954308</td>\n",
       "      <td>7.405694</td>\n",
       "    </tr>\n",
       "    <tr>\n",
       "      <th>296</th>\n",
       "      <td>5.365162</td>\n",
       "      <td>2.435008</td>\n",
       "      <td>7.726488</td>\n",
       "    </tr>\n",
       "    <tr>\n",
       "      <th>297</th>\n",
       "      <td>5.424733</td>\n",
       "      <td>2.197736</td>\n",
       "      <td>7.680230</td>\n",
       "    </tr>\n",
       "    <tr>\n",
       "      <th>298</th>\n",
       "      <td>4.068459</td>\n",
       "      <td>1.964268</td>\n",
       "      <td>6.110611</td>\n",
       "    </tr>\n",
       "    <tr>\n",
       "      <th>299</th>\n",
       "      <td>5.043552</td>\n",
       "      <td>2.051322</td>\n",
       "      <td>6.909933</td>\n",
       "    </tr>\n",
       "  </tbody>\n",
       "</table>\n",
       "<p>300 rows × 3 columns</p>\n",
       "</div>"
      ],
      "text/plain": [
       "           X1        X2         Y\n",
       "0    4.912069  2.034193  7.099346\n",
       "1    4.970952  2.115992  7.146302\n",
       "2    5.645921  2.024459  7.628298\n",
       "3    5.180944  2.204340  7.343637\n",
       "4    4.748189  1.985896  6.715205\n",
       "..        ...       ...       ...\n",
       "295  5.442993  1.954308  7.405694\n",
       "296  5.365162  2.435008  7.726488\n",
       "297  5.424733  2.197736  7.680230\n",
       "298  4.068459  1.964268  6.110611\n",
       "299  5.043552  2.051322  6.909933\n",
       "\n",
       "[300 rows x 3 columns]"
      ]
     },
     "execution_count": 23,
     "metadata": {},
     "output_type": "execute_result"
    }
   ],
   "source": [
    "data=pd.read_csv('data25_01.csv')\n",
    "data"
   ]
  },
  {
   "cell_type": "code",
   "execution_count": 24,
   "id": "c5906d58-6777-43c5-94d8-0529aec30db8",
   "metadata": {},
   "outputs": [
    {
     "data": {
      "text/html": [
       "<div>\n",
       "<style scoped>\n",
       "    .dataframe tbody tr th:only-of-type {\n",
       "        vertical-align: middle;\n",
       "    }\n",
       "\n",
       "    .dataframe tbody tr th {\n",
       "        vertical-align: top;\n",
       "    }\n",
       "\n",
       "    .dataframe thead th {\n",
       "        text-align: right;\n",
       "    }\n",
       "</style>\n",
       "<table border=\"1\" class=\"dataframe\">\n",
       "  <thead>\n",
       "    <tr style=\"text-align: right;\">\n",
       "      <th></th>\n",
       "      <th>X1</th>\n",
       "      <th>X2</th>\n",
       "      <th>Y</th>\n",
       "    </tr>\n",
       "  </thead>\n",
       "  <tbody>\n",
       "    <tr>\n",
       "      <th>0</th>\n",
       "      <td>4.912069</td>\n",
       "      <td>2.034193</td>\n",
       "      <td>7.099346</td>\n",
       "    </tr>\n",
       "    <tr>\n",
       "      <th>1</th>\n",
       "      <td>4.970952</td>\n",
       "      <td>2.115992</td>\n",
       "      <td>7.146302</td>\n",
       "    </tr>\n",
       "    <tr>\n",
       "      <th>2</th>\n",
       "      <td>5.645921</td>\n",
       "      <td>2.024459</td>\n",
       "      <td>7.628298</td>\n",
       "    </tr>\n",
       "    <tr>\n",
       "      <th>3</th>\n",
       "      <td>5.180944</td>\n",
       "      <td>2.204340</td>\n",
       "      <td>7.343637</td>\n",
       "    </tr>\n",
       "    <tr>\n",
       "      <th>4</th>\n",
       "      <td>4.748189</td>\n",
       "      <td>1.985896</td>\n",
       "      <td>6.715205</td>\n",
       "    </tr>\n",
       "    <tr>\n",
       "      <th>...</th>\n",
       "      <td>...</td>\n",
       "      <td>...</td>\n",
       "      <td>...</td>\n",
       "    </tr>\n",
       "    <tr>\n",
       "      <th>295</th>\n",
       "      <td>5.442993</td>\n",
       "      <td>1.954308</td>\n",
       "      <td>7.405694</td>\n",
       "    </tr>\n",
       "    <tr>\n",
       "      <th>296</th>\n",
       "      <td>5.365162</td>\n",
       "      <td>2.435008</td>\n",
       "      <td>7.726488</td>\n",
       "    </tr>\n",
       "    <tr>\n",
       "      <th>297</th>\n",
       "      <td>5.424733</td>\n",
       "      <td>2.197736</td>\n",
       "      <td>7.680230</td>\n",
       "    </tr>\n",
       "    <tr>\n",
       "      <th>298</th>\n",
       "      <td>4.068459</td>\n",
       "      <td>1.964268</td>\n",
       "      <td>6.110611</td>\n",
       "    </tr>\n",
       "    <tr>\n",
       "      <th>299</th>\n",
       "      <td>5.043552</td>\n",
       "      <td>2.051322</td>\n",
       "      <td>6.909933</td>\n",
       "    </tr>\n",
       "  </tbody>\n",
       "</table>\n",
       "<p>300 rows × 3 columns</p>\n",
       "</div>"
      ],
      "text/plain": [
       "           X1        X2         Y\n",
       "0    4.912069  2.034193  7.099346\n",
       "1    4.970952  2.115992  7.146302\n",
       "2    5.645921  2.024459  7.628298\n",
       "3    5.180944  2.204340  7.343637\n",
       "4    4.748189  1.985896  6.715205\n",
       "..        ...       ...       ...\n",
       "295  5.442993  1.954308  7.405694\n",
       "296  5.365162  2.435008  7.726488\n",
       "297  5.424733  2.197736  7.680230\n",
       "298  4.068459  1.964268  6.110611\n",
       "299  5.043552  2.051322  6.909933\n",
       "\n",
       "[300 rows x 3 columns]"
      ]
     },
     "execution_count": 24,
     "metadata": {},
     "output_type": "execute_result"
    }
   ],
   "source": [
    "data.dropna()"
   ]
  },
  {
   "cell_type": "markdown",
   "id": "35a8d8ac-3f74-423e-8f6c-1074cdca8597",
   "metadata": {},
   "source": [
    "<h1>Spliting the data into training (80)% and testing 20% \n",
    "</h1>"
   ]
  },
  {
   "cell_type": "code",
   "execution_count": 26,
   "id": "41b6206a-c70d-48ba-824d-1f6cf36f2da6",
   "metadata": {},
   "outputs": [],
   "source": [
    "train_size= int(0.8 * len(data))\n",
    "train_data = data[:train_size]\n",
    "test_data = data[train_size:]\n"
   ]
  },
  {
   "cell_type": "markdown",
   "id": "5ba89a94-3811-4963-8baf-f4f531f77fb4",
   "metadata": {},
   "source": [
    "<h1>Seperating the independent and depedent variable</h1>"
   ]
  },
  {
   "cell_type": "code",
   "execution_count": 28,
   "id": "be6f92b4-fec6-4f07-bf36-7207e0b3a744",
   "metadata": {},
   "outputs": [],
   "source": [
    "#independent\n",
    "X1_train = train_data[['X1']]\n",
    "X2_train = train_data[['X2']]\n",
    "#dependent\n",
    "Y_train = train_data[['Y']]\n"
   ]
  },
  {
   "cell_type": "code",
   "execution_count": 29,
   "id": "8e3a3ac7-7069-43c2-b044-a25d0e1d3564",
   "metadata": {
    "scrolled": true
   },
   "outputs": [
    {
     "data": {
      "text/plain": [
       "240    7.226695\n",
       "241    6.348097\n",
       "242    5.704139\n",
       "243    6.742232\n",
       "244    7.266014\n",
       "245    6.684136\n",
       "246    6.973504\n",
       "247    6.953160\n",
       "248    7.269014\n",
       "249    6.837510\n",
       "250    7.259559\n",
       "251    6.195852\n",
       "252    7.545513\n",
       "253    7.213028\n",
       "254    6.850431\n",
       "255    6.998540\n",
       "256    7.345431\n",
       "257    7.552993\n",
       "258    7.044076\n",
       "259    7.809874\n",
       "260    6.518898\n",
       "261    6.703441\n",
       "262    6.424721\n",
       "263    7.590166\n",
       "264    7.815016\n",
       "265    7.010137\n",
       "266    7.285146\n",
       "267    7.365328\n",
       "268    7.132525\n",
       "269    6.909597\n",
       "270    7.261772\n",
       "271    6.398992\n",
       "272    7.825150\n",
       "273    7.263401\n",
       "274    6.245224\n",
       "275    7.177316\n",
       "276    6.871654\n",
       "277    6.767535\n",
       "278    6.481203\n",
       "279    6.948069\n",
       "280    6.912862\n",
       "281    7.693801\n",
       "282    6.153294\n",
       "283    7.755744\n",
       "284    7.035551\n",
       "285    7.389458\n",
       "286    7.513397\n",
       "287    7.093754\n",
       "288    6.510578\n",
       "289    6.704832\n",
       "290    6.697474\n",
       "291    6.807609\n",
       "292    7.036560\n",
       "293    6.784224\n",
       "294    6.638014\n",
       "295    7.405694\n",
       "296    7.726488\n",
       "297    7.680230\n",
       "298    6.110611\n",
       "299    6.909933\n",
       "Name: Y, dtype: float64"
      ]
     },
     "execution_count": 29,
     "metadata": {},
     "output_type": "execute_result"
    }
   ],
   "source": [
    "#independent\n",
    "X1_test = test_data[['X1']]\n",
    "X2_test = test_data[['X2']]\n",
    "#dependent\n",
    "Y_test = test_data['Y']\n",
    "Y_test"
   ]
  },
  {
   "cell_type": "markdown",
   "id": "539d1c58-8ac8-4075-83b0-a485f78519a9",
   "metadata": {},
   "source": [
    "<h1>Adding constant column to the independent variables for the intercept</h1>"
   ]
  },
  {
   "cell_type": "code",
   "execution_count": 31,
   "id": "af4cc9c6-0a01-4d38-adcc-253510d72d13",
   "metadata": {},
   "outputs": [],
   "source": [
    "X1_train_const = sm.add_constant(X1_train)\n",
    "X2_train_const = sm.add_constant(pd.concat([X1_train,X2_train],axis=1))"
   ]
  },
  {
   "cell_type": "markdown",
   "id": "31c35dca-90f5-4e46-89bb-51ced2b28835",
   "metadata": {},
   "source": [
    "<h1>Fit the first model</h1>"
   ]
  },
  {
   "cell_type": "code",
   "execution_count": 33,
   "id": "48fd9dcc-8965-445e-bf3e-551e9a222537",
   "metadata": {},
   "outputs": [],
   "source": [
    "model_X1= sm.OLS(Y_train,X1_train_const).fit()"
   ]
  },
  {
   "cell_type": "code",
   "execution_count": 34,
   "id": "57fecba5-0d4f-4cfd-b9e8-8c948dcb95af",
   "metadata": {},
   "outputs": [
    {
     "data": {
      "text/html": [
       "<table class=\"simpletable\">\n",
       "<caption>OLS Regression Results</caption>\n",
       "<tr>\n",
       "  <th>Dep. Variable:</th>            <td>Y</td>        <th>  R-squared:         </th> <td>   0.761</td>\n",
       "</tr>\n",
       "<tr>\n",
       "  <th>Model:</th>                   <td>OLS</td>       <th>  Adj. R-squared:    </th> <td>   0.760</td>\n",
       "</tr>\n",
       "<tr>\n",
       "  <th>Method:</th>             <td>Least Squares</td>  <th>  F-statistic:       </th> <td>   757.8</td>\n",
       "</tr>\n",
       "<tr>\n",
       "  <th>Date:</th>             <td>Sun, 15 Dec 2024</td> <th>  Prob (F-statistic):</th> <td>6.32e-76</td>\n",
       "</tr>\n",
       "<tr>\n",
       "  <th>Time:</th>                 <td>16:54:38</td>     <th>  Log-Likelihood:    </th> <td>  16.055</td>\n",
       "</tr>\n",
       "<tr>\n",
       "  <th>No. Observations:</th>      <td>   240</td>      <th>  AIC:               </th> <td>  -28.11</td>\n",
       "</tr>\n",
       "<tr>\n",
       "  <th>Df Residuals:</th>          <td>   238</td>      <th>  BIC:               </th> <td>  -21.15</td>\n",
       "</tr>\n",
       "<tr>\n",
       "  <th>Df Model:</th>              <td>     1</td>      <th>                     </th>     <td> </td>   \n",
       "</tr>\n",
       "<tr>\n",
       "  <th>Covariance Type:</th>      <td>nonrobust</td>    <th>                     </th>     <td> </td>   \n",
       "</tr>\n",
       "</table>\n",
       "<table class=\"simpletable\">\n",
       "<tr>\n",
       "    <td></td>       <th>coef</th>     <th>std err</th>      <th>t</th>      <th>P>|t|</th>  <th>[0.025</th>    <th>0.975]</th>  \n",
       "</tr>\n",
       "<tr>\n",
       "  <th>const</th> <td>    1.8832</td> <td>    0.186</td> <td>   10.099</td> <td> 0.000</td> <td>    1.516</td> <td>    2.251</td>\n",
       "</tr>\n",
       "<tr>\n",
       "  <th>X1</th>    <td>    1.0228</td> <td>    0.037</td> <td>   27.529</td> <td> 0.000</td> <td>    0.950</td> <td>    1.096</td>\n",
       "</tr>\n",
       "</table>\n",
       "<table class=\"simpletable\">\n",
       "<tr>\n",
       "  <th>Omnibus:</th>       <td> 0.683</td> <th>  Durbin-Watson:     </th> <td>   2.086</td>\n",
       "</tr>\n",
       "<tr>\n",
       "  <th>Prob(Omnibus):</th> <td> 0.711</td> <th>  Jarque-Bera (JB):  </th> <td>   0.410</td>\n",
       "</tr>\n",
       "<tr>\n",
       "  <th>Skew:</th>          <td> 0.043</td> <th>  Prob(JB):          </th> <td>   0.815</td>\n",
       "</tr>\n",
       "<tr>\n",
       "  <th>Kurtosis:</th>      <td> 3.183</td> <th>  Cond. No.          </th> <td>    66.3</td>\n",
       "</tr>\n",
       "</table><br/><br/>Notes:<br/>[1] Standard Errors assume that the covariance matrix of the errors is correctly specified."
      ],
      "text/latex": [
       "\\begin{center}\n",
       "\\begin{tabular}{lclc}\n",
       "\\toprule\n",
       "\\textbf{Dep. Variable:}    &        Y         & \\textbf{  R-squared:         } &     0.761   \\\\\n",
       "\\textbf{Model:}            &       OLS        & \\textbf{  Adj. R-squared:    } &     0.760   \\\\\n",
       "\\textbf{Method:}           &  Least Squares   & \\textbf{  F-statistic:       } &     757.8   \\\\\n",
       "\\textbf{Date:}             & Sun, 15 Dec 2024 & \\textbf{  Prob (F-statistic):} &  6.32e-76   \\\\\n",
       "\\textbf{Time:}             &     16:54:38     & \\textbf{  Log-Likelihood:    } &    16.055   \\\\\n",
       "\\textbf{No. Observations:} &         240      & \\textbf{  AIC:               } &    -28.11   \\\\\n",
       "\\textbf{Df Residuals:}     &         238      & \\textbf{  BIC:               } &    -21.15   \\\\\n",
       "\\textbf{Df Model:}         &           1      & \\textbf{                     } &             \\\\\n",
       "\\textbf{Covariance Type:}  &    nonrobust     & \\textbf{                     } &             \\\\\n",
       "\\bottomrule\n",
       "\\end{tabular}\n",
       "\\begin{tabular}{lcccccc}\n",
       "               & \\textbf{coef} & \\textbf{std err} & \\textbf{t} & \\textbf{P$> |$t$|$} & \\textbf{[0.025} & \\textbf{0.975]}  \\\\\n",
       "\\midrule\n",
       "\\textbf{const} &       1.8832  &        0.186     &    10.099  &         0.000        &        1.516    &        2.251     \\\\\n",
       "\\textbf{X1}    &       1.0228  &        0.037     &    27.529  &         0.000        &        0.950    &        1.096     \\\\\n",
       "\\bottomrule\n",
       "\\end{tabular}\n",
       "\\begin{tabular}{lclc}\n",
       "\\textbf{Omnibus:}       &  0.683 & \\textbf{  Durbin-Watson:     } &    2.086  \\\\\n",
       "\\textbf{Prob(Omnibus):} &  0.711 & \\textbf{  Jarque-Bera (JB):  } &    0.410  \\\\\n",
       "\\textbf{Skew:}          &  0.043 & \\textbf{  Prob(JB):          } &    0.815  \\\\\n",
       "\\textbf{Kurtosis:}      &  3.183 & \\textbf{  Cond. No.          } &     66.3  \\\\\n",
       "\\bottomrule\n",
       "\\end{tabular}\n",
       "%\\caption{OLS Regression Results}\n",
       "\\end{center}\n",
       "\n",
       "Notes: \\newline\n",
       " [1] Standard Errors assume that the covariance matrix of the errors is correctly specified."
      ],
      "text/plain": [
       "<class 'statsmodels.iolib.summary.Summary'>\n",
       "\"\"\"\n",
       "                            OLS Regression Results                            \n",
       "==============================================================================\n",
       "Dep. Variable:                      Y   R-squared:                       0.761\n",
       "Model:                            OLS   Adj. R-squared:                  0.760\n",
       "Method:                 Least Squares   F-statistic:                     757.8\n",
       "Date:                Sun, 15 Dec 2024   Prob (F-statistic):           6.32e-76\n",
       "Time:                        16:54:38   Log-Likelihood:                 16.055\n",
       "No. Observations:                 240   AIC:                            -28.11\n",
       "Df Residuals:                     238   BIC:                            -21.15\n",
       "Df Model:                           1                                         \n",
       "Covariance Type:            nonrobust                                         \n",
       "==============================================================================\n",
       "                 coef    std err          t      P>|t|      [0.025      0.975]\n",
       "------------------------------------------------------------------------------\n",
       "const          1.8832      0.186     10.099      0.000       1.516       2.251\n",
       "X1             1.0228      0.037     27.529      0.000       0.950       1.096\n",
       "==============================================================================\n",
       "Omnibus:                        0.683   Durbin-Watson:                   2.086\n",
       "Prob(Omnibus):                  0.711   Jarque-Bera (JB):                0.410\n",
       "Skew:                           0.043   Prob(JB):                        0.815\n",
       "Kurtosis:                       3.183   Cond. No.                         66.3\n",
       "==============================================================================\n",
       "\n",
       "Notes:\n",
       "[1] Standard Errors assume that the covariance matrix of the errors is correctly specified.\n",
       "\"\"\""
      ]
     },
     "execution_count": 34,
     "metadata": {},
     "output_type": "execute_result"
    }
   ],
   "source": [
    "model_X1.summary()"
   ]
  },
  {
   "cell_type": "markdown",
   "id": "836ab6d6-78ac-4026-8221-c8fa19200473",
   "metadata": {},
   "source": [
    "<h1>Fit the Second model (with X1 and X2)</h1>"
   ]
  },
  {
   "cell_type": "code",
   "execution_count": 36,
   "id": "e8f850e9-ba82-49bc-b75f-9d1ea309854c",
   "metadata": {},
   "outputs": [],
   "source": [
    "model_X1_X2 = sm.OLS(Y_train,X2_train_const).fit()"
   ]
  },
  {
   "cell_type": "code",
   "execution_count": 37,
   "id": "070dbf0c-222c-4974-b6d7-06e8e0c9677b",
   "metadata": {},
   "outputs": [
    {
     "data": {
      "text/html": [
       "<table class=\"simpletable\">\n",
       "<caption>OLS Regression Results</caption>\n",
       "<tr>\n",
       "  <th>Dep. Variable:</th>            <td>Y</td>        <th>  R-squared:         </th> <td>   0.952</td> \n",
       "</tr>\n",
       "<tr>\n",
       "  <th>Model:</th>                   <td>OLS</td>       <th>  Adj. R-squared:    </th> <td>   0.952</td> \n",
       "</tr>\n",
       "<tr>\n",
       "  <th>Method:</th>             <td>Least Squares</td>  <th>  F-statistic:       </th> <td>   2375.</td> \n",
       "</tr>\n",
       "<tr>\n",
       "  <th>Date:</th>             <td>Sun, 15 Dec 2024</td> <th>  Prob (F-statistic):</th> <td>1.61e-157</td>\n",
       "</tr>\n",
       "<tr>\n",
       "  <th>Time:</th>                 <td>16:54:38</td>     <th>  Log-Likelihood:    </th> <td>  209.90</td> \n",
       "</tr>\n",
       "<tr>\n",
       "  <th>No. Observations:</th>      <td>   240</td>      <th>  AIC:               </th> <td>  -413.8</td> \n",
       "</tr>\n",
       "<tr>\n",
       "  <th>Df Residuals:</th>          <td>   237</td>      <th>  BIC:               </th> <td>  -403.4</td> \n",
       "</tr>\n",
       "<tr>\n",
       "  <th>Df Model:</th>              <td>     2</td>      <th>                     </th>     <td> </td>    \n",
       "</tr>\n",
       "<tr>\n",
       "  <th>Covariance Type:</th>      <td>nonrobust</td>    <th>                     </th>     <td> </td>    \n",
       "</tr>\n",
       "</table>\n",
       "<table class=\"simpletable\">\n",
       "<tr>\n",
       "    <td></td>       <th>coef</th>     <th>std err</th>      <th>t</th>      <th>P>|t|</th>  <th>[0.025</th>    <th>0.975]</th>  \n",
       "</tr>\n",
       "<tr>\n",
       "  <th>const</th> <td>    0.0770</td> <td>    0.102</td> <td>    0.756</td> <td> 0.450</td> <td>   -0.124</td> <td>    0.277</td>\n",
       "</tr>\n",
       "<tr>\n",
       "  <th>X1</th>    <td>    0.9885</td> <td>    0.017</td> <td>   59.406</td> <td> 0.000</td> <td>    0.956</td> <td>    1.021</td>\n",
       "</tr>\n",
       "<tr>\n",
       "  <th>X2</th>    <td>    0.9895</td> <td>    0.032</td> <td>   30.903</td> <td> 0.000</td> <td>    0.926</td> <td>    1.053</td>\n",
       "</tr>\n",
       "</table>\n",
       "<table class=\"simpletable\">\n",
       "<tr>\n",
       "  <th>Omnibus:</th>       <td> 2.033</td> <th>  Durbin-Watson:     </th> <td>   1.926</td>\n",
       "</tr>\n",
       "<tr>\n",
       "  <th>Prob(Omnibus):</th> <td> 0.362</td> <th>  Jarque-Bera (JB):  </th> <td>   1.777</td>\n",
       "</tr>\n",
       "<tr>\n",
       "  <th>Skew:</th>          <td>-0.092</td> <th>  Prob(JB):          </th> <td>   0.411</td>\n",
       "</tr>\n",
       "<tr>\n",
       "  <th>Kurtosis:</th>      <td> 2.621</td> <th>  Cond. No.          </th> <td>    87.4</td>\n",
       "</tr>\n",
       "</table><br/><br/>Notes:<br/>[1] Standard Errors assume that the covariance matrix of the errors is correctly specified."
      ],
      "text/latex": [
       "\\begin{center}\n",
       "\\begin{tabular}{lclc}\n",
       "\\toprule\n",
       "\\textbf{Dep. Variable:}    &        Y         & \\textbf{  R-squared:         } &     0.952   \\\\\n",
       "\\textbf{Model:}            &       OLS        & \\textbf{  Adj. R-squared:    } &     0.952   \\\\\n",
       "\\textbf{Method:}           &  Least Squares   & \\textbf{  F-statistic:       } &     2375.   \\\\\n",
       "\\textbf{Date:}             & Sun, 15 Dec 2024 & \\textbf{  Prob (F-statistic):} & 1.61e-157   \\\\\n",
       "\\textbf{Time:}             &     16:54:38     & \\textbf{  Log-Likelihood:    } &    209.90   \\\\\n",
       "\\textbf{No. Observations:} &         240      & \\textbf{  AIC:               } &    -413.8   \\\\\n",
       "\\textbf{Df Residuals:}     &         237      & \\textbf{  BIC:               } &    -403.4   \\\\\n",
       "\\textbf{Df Model:}         &           2      & \\textbf{                     } &             \\\\\n",
       "\\textbf{Covariance Type:}  &    nonrobust     & \\textbf{                     } &             \\\\\n",
       "\\bottomrule\n",
       "\\end{tabular}\n",
       "\\begin{tabular}{lcccccc}\n",
       "               & \\textbf{coef} & \\textbf{std err} & \\textbf{t} & \\textbf{P$> |$t$|$} & \\textbf{[0.025} & \\textbf{0.975]}  \\\\\n",
       "\\midrule\n",
       "\\textbf{const} &       0.0770  &        0.102     &     0.756  &         0.450        &       -0.124    &        0.277     \\\\\n",
       "\\textbf{X1}    &       0.9885  &        0.017     &    59.406  &         0.000        &        0.956    &        1.021     \\\\\n",
       "\\textbf{X2}    &       0.9895  &        0.032     &    30.903  &         0.000        &        0.926    &        1.053     \\\\\n",
       "\\bottomrule\n",
       "\\end{tabular}\n",
       "\\begin{tabular}{lclc}\n",
       "\\textbf{Omnibus:}       &  2.033 & \\textbf{  Durbin-Watson:     } &    1.926  \\\\\n",
       "\\textbf{Prob(Omnibus):} &  0.362 & \\textbf{  Jarque-Bera (JB):  } &    1.777  \\\\\n",
       "\\textbf{Skew:}          & -0.092 & \\textbf{  Prob(JB):          } &    0.411  \\\\\n",
       "\\textbf{Kurtosis:}      &  2.621 & \\textbf{  Cond. No.          } &     87.4  \\\\\n",
       "\\bottomrule\n",
       "\\end{tabular}\n",
       "%\\caption{OLS Regression Results}\n",
       "\\end{center}\n",
       "\n",
       "Notes: \\newline\n",
       " [1] Standard Errors assume that the covariance matrix of the errors is correctly specified."
      ],
      "text/plain": [
       "<class 'statsmodels.iolib.summary.Summary'>\n",
       "\"\"\"\n",
       "                            OLS Regression Results                            \n",
       "==============================================================================\n",
       "Dep. Variable:                      Y   R-squared:                       0.952\n",
       "Model:                            OLS   Adj. R-squared:                  0.952\n",
       "Method:                 Least Squares   F-statistic:                     2375.\n",
       "Date:                Sun, 15 Dec 2024   Prob (F-statistic):          1.61e-157\n",
       "Time:                        16:54:38   Log-Likelihood:                 209.90\n",
       "No. Observations:                 240   AIC:                            -413.8\n",
       "Df Residuals:                     237   BIC:                            -403.4\n",
       "Df Model:                           2                                         \n",
       "Covariance Type:            nonrobust                                         \n",
       "==============================================================================\n",
       "                 coef    std err          t      P>|t|      [0.025      0.975]\n",
       "------------------------------------------------------------------------------\n",
       "const          0.0770      0.102      0.756      0.450      -0.124       0.277\n",
       "X1             0.9885      0.017     59.406      0.000       0.956       1.021\n",
       "X2             0.9895      0.032     30.903      0.000       0.926       1.053\n",
       "==============================================================================\n",
       "Omnibus:                        2.033   Durbin-Watson:                   1.926\n",
       "Prob(Omnibus):                  0.362   Jarque-Bera (JB):                1.777\n",
       "Skew:                          -0.092   Prob(JB):                        0.411\n",
       "Kurtosis:                       2.621   Cond. No.                         87.4\n",
       "==============================================================================\n",
       "\n",
       "Notes:\n",
       "[1] Standard Errors assume that the covariance matrix of the errors is correctly specified.\n",
       "\"\"\""
      ]
     },
     "execution_count": 37,
     "metadata": {},
     "output_type": "execute_result"
    }
   ],
   "source": [
    "model_X1_X2.summary()"
   ]
  },
  {
   "cell_type": "markdown",
   "id": "441dce0a-f849-4433-a9f3-8d414ec6fc0f",
   "metadata": {},
   "source": [
    "<h1>Acceping the two-variable model if adjusted R^2 increases</h1>"
   ]
  },
  {
   "cell_type": "code",
   "execution_count": 39,
   "id": "de93de4d-9fdd-4a2b-97ee-41a9c85f1813",
   "metadata": {},
   "outputs": [
    {
     "name": "stdout",
     "output_type": "stream",
     "text": [
      "Accepted\n"
     ]
    }
   ],
   "source": [
    "if model_X1_X2.rsquared_adj > model_X1.rsquared_adj:\n",
    "    print(\"Accepted\")\n",
    "    final_model = model_X1_X2\n",
    "    X_test_const = sm.add_constant(pd.concat([X1_test,X2_test],axis=1))\n",
    "else:\n",
    "    print(\"Model with X1 is better based on adjusted R-squared\")\n",
    "    final_model= model_X1\n",
    "    X_test_const = sm.add_constant(X1_test)\n",
    "    "
   ]
  },
  {
   "cell_type": "markdown",
   "id": "3a1b809b-59ec-469b-b44f-ccfc6ce9265e",
   "metadata": {},
   "source": [
    "<h1>Making predictions</h1>"
   ]
  },
  {
   "cell_type": "code",
   "execution_count": 41,
   "id": "a1bcd10c-321e-468f-8014-e908abddaabe",
   "metadata": {
    "scrolled": true
   },
   "outputs": [
    {
     "data": {
      "text/plain": [
       "240    7.201655\n",
       "241    6.346044\n",
       "242    5.720294\n",
       "243    6.822638\n",
       "244    7.224503\n",
       "245    6.707181\n",
       "246    6.833291\n",
       "247    6.953888\n",
       "248    7.118836\n",
       "249    6.951088\n",
       "250    7.391173\n",
       "251    6.432533\n",
       "252    7.509925\n",
       "253    7.202440\n",
       "254    6.745481\n",
       "255    6.915887\n",
       "256    7.498631\n",
       "257    7.295004\n",
       "258    7.153632\n",
       "259    7.743512\n",
       "260    6.522396\n",
       "261    6.772662\n",
       "262    6.672888\n",
       "263    7.563108\n",
       "264    7.779697\n",
       "265    7.020177\n",
       "266    7.088895\n",
       "267    7.267427\n",
       "268    7.145033\n",
       "269    7.005819\n",
       "270    7.205511\n",
       "271    6.563451\n",
       "272    7.798319\n",
       "273    7.386014\n",
       "274    6.272005\n",
       "275    7.199006\n",
       "276    6.842354\n",
       "277    6.850632\n",
       "278    6.466447\n",
       "279    7.049925\n",
       "280    7.006564\n",
       "281    7.700229\n",
       "282    6.172179\n",
       "283    7.753005\n",
       "284    6.996041\n",
       "285    7.252062\n",
       "286    7.422640\n",
       "287    7.087404\n",
       "288    6.598240\n",
       "289    6.898921\n",
       "290    6.742257\n",
       "291    6.888792\n",
       "292    7.078025\n",
       "293    6.791099\n",
       "294    6.840534\n",
       "295    7.391129\n",
       "296    7.789857\n",
       "297    7.613957\n",
       "298    6.042272\n",
       "299    7.092283\n",
       "dtype: float64"
      ]
     },
     "execution_count": 41,
     "metadata": {},
     "output_type": "execute_result"
    }
   ],
   "source": [
    "Y_pred = final_model.predict(X_test_const)\n",
    "Y_pred"
   ]
  },
  {
   "cell_type": "code",
   "execution_count": 42,
   "id": "260cc3d7-6fc2-4dca-ac14-ce627e523963",
   "metadata": {
    "scrolled": true
   },
   "outputs": [
    {
     "data": {
      "text/plain": [
       "240    0.025040\n",
       "241    0.002052\n",
       "242   -0.016155\n",
       "243   -0.080406\n",
       "244    0.041512\n",
       "245   -0.023045\n",
       "246    0.140213\n",
       "247   -0.000729\n",
       "248    0.150178\n",
       "249   -0.113578\n",
       "250   -0.131614\n",
       "251   -0.236681\n",
       "252    0.035588\n",
       "253    0.010588\n",
       "254    0.104950\n",
       "255    0.082653\n",
       "256   -0.153199\n",
       "257    0.257989\n",
       "258   -0.109556\n",
       "259    0.066362\n",
       "260   -0.003498\n",
       "261   -0.069220\n",
       "262   -0.248168\n",
       "263    0.027058\n",
       "264    0.035319\n",
       "265   -0.010040\n",
       "266    0.196251\n",
       "267    0.097901\n",
       "268   -0.012509\n",
       "269   -0.096222\n",
       "270    0.056261\n",
       "271   -0.164459\n",
       "272    0.026831\n",
       "273   -0.122612\n",
       "274   -0.026782\n",
       "275   -0.021691\n",
       "276    0.029300\n",
       "277   -0.083097\n",
       "278    0.014756\n",
       "279   -0.101856\n",
       "280   -0.093702\n",
       "281   -0.006428\n",
       "282   -0.018885\n",
       "283    0.002739\n",
       "284    0.039510\n",
       "285    0.137396\n",
       "286    0.090757\n",
       "287    0.006350\n",
       "288   -0.087662\n",
       "289   -0.194090\n",
       "290   -0.044783\n",
       "291   -0.081183\n",
       "292   -0.041466\n",
       "293   -0.006875\n",
       "294   -0.202520\n",
       "295    0.014565\n",
       "296   -0.063370\n",
       "297    0.066273\n",
       "298    0.068339\n",
       "299   -0.182350\n",
       "dtype: float64"
      ]
     },
     "execution_count": 42,
     "metadata": {},
     "output_type": "execute_result"
    }
   ],
   "source": [
    "residuals=Y_test - Y_pred\n",
    "residuals"
   ]
  },
  {
   "cell_type": "markdown",
   "id": "a33a350e-1dc8-4fca-b54a-9035bfd4b612",
   "metadata": {},
   "source": [
    "<h1>Residuals Plot</h1>"
   ]
  },
  {
   "cell_type": "markdown",
   "id": "d8aaccdb-8549-4d79-8969-1ed83743d53f",
   "metadata": {},
   "source": [
    "Residuals Plot for X1_test"
   ]
  },
  {
   "cell_type": "code",
   "execution_count": 52,
   "id": "7aab901a-d533-44ee-9d4b-a9ad04c86a6f",
   "metadata": {},
   "outputs": [
    {
     "data": {
      "image/png": "[encoded data removed]",
      "text/plain": [
       "<Figure size 1000x600 with 1 Axes>"
      ]
     },
     "metadata": {},
     "output_type": "display_data"
    }
   ],
   "source": [
    "plt.figure(figsize=(10, 6))\n",
    "plt.scatter(X1_test, residuals,color='gray')\n",
    "plt.axhline(0, color='red', linestyle='--', linewidth=1)\n",
    "plt.xlabel(\"Predicted Values\")\n",
    "plt.ylabel(\"Residuals\")\n",
    "plt.title(\"Residual Plot\")\n",
    "plt.show()"
   ]
  },
  {
   "cell_type": "code",
   "execution_count": null,
   "id": "63f13b55-6e56-408b-81a7-342f2455bf39",
   "metadata": {},
   "outputs": [],
   "source": []
  },
  {
   "cell_type": "markdown",
   "id": "0239020e-124c-47ef-ba74-ec59e9387d4b",
   "metadata": {},
   "source": [
    "<h1>Residual Plot based on better adjusted R-squared</h1>"
   ]
  },
  {
   "cell_type": "code",
   "execution_count": 62,
   "id": "c1513178-4e24-4949-bab7-3202b54a6c7b",
   "metadata": {},
   "outputs": [
    {
     "data": {
      "image/png": "[encoded data removed]",
      "text/plain": [
       "<Figure size 1000x600 with 1 Axes>"
      ]
     },
     "metadata": {},
     "output_type": "display_data"
    }
   ],
   "source": [
    "plt.figure(figsize=(10, 6))\n",
    "plt.scatter(Y_pred, residuals)\n",
    "plt.axhline(0, color='red', linestyle='--', linewidth=1)\n",
    "plt.xlabel(\"Predicted Values\")\n",
    "plt.ylabel(\"Residuals\")\n",
    "plt.title(\"Residual Plot\")\n",
    "plt.show()"
   ]
  }
 ],
 "metadata": {
  "kernelspec": {
   "display_name": "Python 3 (ipykernel)",
   "language": "python",
   "name": "python3"
  },
  "language_info": {
   "codemirror_mode": {
    "name": "ipython",
    "version": 3
   },
   "file_extension": ".py",
   "mimetype": "text/x-python",
   "name": "python",
   "nbconvert_exporter": "python",
   "pygments_lexer": "ipython3",
   "version": "3.12.7"
  }
 },
 "nbformat": 4,
 "nbformat_minor": 5
}
